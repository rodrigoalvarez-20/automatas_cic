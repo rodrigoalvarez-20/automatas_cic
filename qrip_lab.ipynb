{
 "cells": [
  {
   "cell_type": "code",
   "execution_count": 1,
   "id": "6adb40a4",
   "metadata": {},
   "outputs": [],
   "source": [
    "# Code imports\n",
    "from utils.common import load_automata_definition, update_vocab, print_table, qrip_input_trans, qrip_join_duplicate_paths\n",
    "from pprint import pprint"
   ]
  },
  {
   "cell_type": "code",
   "execution_count": 2,
   "id": "8b4649a6",
   "metadata": {},
   "outputs": [],
   "source": [
    "# Specify the input DFA definition file\n",
    "automata_def = \"./data/qrip_ex1.afd.txt\""
   ]
  },
  {
   "cell_type": "code",
   "execution_count": 3,
   "id": "a6c4d93d",
   "metadata": {},
   "outputs": [],
   "source": [
    "# Load the Vocab, Accepted States and Definition values --> Check the function definition\n",
    "vocab, accepted_states, states_definition = load_automata_definition(automata_def)"
   ]
  },
  {
   "cell_type": "code",
   "execution_count": 4,
   "id": "decb32b9",
   "metadata": {},
   "outputs": [
    {
     "data": {
      "text/plain": [
       "(['a', 'b'],\n",
       " 'F:C',\n",
       " {'A': {'a': 'B', 'b': 'C'},\n",
       "  'B': {'a': 'C', 'b': 'B'},\n",
       "  'C': {'a': 'C', 'b': 'C'}})"
      ]
     },
     "execution_count": 4,
     "metadata": {},
     "output_type": "execute_result"
    }
   ],
   "source": [
    "# Simple debug line\n",
    "vocab, accepted_states, states_definition"
   ]
  },
  {
   "cell_type": "code",
   "execution_count": 5,
   "id": "38469907",
   "metadata": {},
   "outputs": [],
   "source": [
    "# As for the Qrip method, yuu need to add a new initial and final state\n",
    "# First map the current states, which are defined as Keys in the diccionary\n",
    "all_states = list(states_definition.keys())\n",
    "# Add the new start state (qstart) and define an epsilon transition to the original initial state\n",
    "states_definition[\"qstart\"] = { \"€\": all_states[0] }\n",
    "# Add the new final state (qend). This state dont have any transitions\n",
    "states_definition[\"qend\"] = {}\n",
    "# Use the original final (accepted states) \n",
    "final_states = accepted_states[2:].split(\",\")\n",
    "# For each of them, add the epsilon transition to connect with the new final state\n",
    "for fstate in final_states:\n",
    "    states_definition[fstate][\"€\"] = \"qend\"\n",
    "# Update the variable value\n",
    "all_states = list(states_definition.keys())\n",
    "# Reflect the changes in the vocab with the new transitions (Epsilon elements)\n",
    "vocab = update_vocab(states_definition)"
   ]
  },
  {
   "cell_type": "code",
   "execution_count": 6,
   "id": "7b1a2a68",
   "metadata": {},
   "outputs": [
    {
     "name": "stdout",
     "output_type": "stream",
     "text": [
      "\ta\tb\t€\n",
      "A\tB\tC\t\n",
      "B\tC\tB\t\n",
      "C\tC\tC\tqend\n",
      "qstart\t\t\tA\n",
      "qend\t\t\t\n",
      "====================\n"
     ]
    }
   ],
   "source": [
    "print_table(vocab, states_definition) # Print a simple view of the initial table"
   ]
  },
  {
   "cell_type": "code",
   "execution_count": null,
   "id": "ce5dc752",
   "metadata": {},
   "outputs": [],
   "source": [
    "# Copy the original definition state to avoid lossing the original definition\n",
    "states_definition_cpy = states_definition.copy()\n",
    "# Select only the states to delete\n",
    "node_elements = [ x for x in states_definition_cpy.keys() if x not in [\"qstart\", \"qend\"] ]\n",
    "# For each one of them\n",
    "for idx, original_state in enumerate(node_elements):\n",
    "    # Load the vocab definition. After the initial iteration, there must be some R.E. as transition values\n",
    "    vocab = update_vocab(states_definition_cpy)\n",
    "    # Extract the state to delete\n",
    "    out_trans = states_definition_cpy.pop(original_state)\n",
    "    print(\"Iteration #{} - Node to delete: {}\".format((idx + 1), original_state))\n",
    "    # Print the current table\n",
    "    print_table(vocab, states_definition_cpy)\n",
    "    # Select the input transition elements of the current state, avoiding the self-loops\n",
    "    # Agregar todas aquellas coincidentes con \"Estado_Destino == Estado Actual\" exceptuando los self-loops\n",
    "    in_trans = qrip_input_trans(states_definition_cpy, original_state) # Check implementation\n",
    "    loops_trans = [] # Prepare for the self-loops array\n",
    "    \n",
    "    # The QRip method can be seen as a Cross product with the input transitions of the state to eliminate with its output transitions\n",
    "    # Realizar producto cruz de Incoming X Outgoing y agregarlos a la tabla de transiciones\n",
    "    # For every transition in the input transition\n",
    "    for inc_state, inc_transitions in in_trans:\n",
    "        # Select the state name in the incoming or input transition of the array\n",
    "        # Always will be of length 1, so you only select the 0 item\n",
    "        base_transition = list(inc_transitions.keys())[0]\n",
    "        # For every item in the actual  states definition, select only the output transitions of the current state\n",
    "        for out_state in out_trans:\n",
    "            # First, map the self-loops (Destination state == actual state)\n",
    "            if out_trans[out_state] == original_state:\n",
    "                if \"+\" in out_state:\n",
    "                    base_transition += \"({})*\".format(out_state)\n",
    "                else:\n",
    "                    base_transition += \"({}*)\".format(out_state)\n",
    "        # Same loop, but now map the Concatenation items\n",
    "        for out_state in out_trans:\n",
    "            # if the destination state is different from the current state\n",
    "            if out_trans[out_state] != original_state:\n",
    "                str_transition = \"({}{})\".format(base_transition, out_state)\n",
    "                #print(\"{}[{}] --> {}\".format(inc_state, str_transition, out_trans[out_state]))\n",
    "                # add the new \"transition\" (R.E. value) to the output states. Literal, qrip the state\n",
    "                states_definition_cpy[inc_state][str_transition] = out_trans[out_state]\n",
    "            \n",
    "    # Unir caminos dobles\n",
    "    # In case there are double paths (from a --> b and b --> a)\n",
    "    # Merge the path as a \n",
    "    qrip_join_duplicate_paths(states_definition_cpy)\n",
    "            \n",
    "    # Una vez eliminado el estado, eliminar las referencias de las transiciones existentes\n",
    "    # Once we delete the state, the refs to the current or existing transitions are deleted\n",
    "    # This is to avoid loops in the qrip algorithm and cleanse the transitions table\n",
    "    for origin_state, transition in in_trans:\n",
    "        del states_definition_cpy[origin_state][list(transition.keys())[0]]\n",
    "    \n",
    "    # Clean the qstart transitions\n",
    "    # Delete the original or actual transitions and add the R.E. transitions\n",
    "    qstart_elements = states_definition_cpy[\"qstart\"]\n",
    "    transitions_to_delete = []\n",
    "    transitions_to_append = []\n",
    "    for qe in qstart_elements.values():\n",
    "        tvalues = [ x for x in qstart_elements.keys() if qstart_elements[x] == qe ]\n",
    "        if len(tvalues) > 1:\n",
    "            # Combine using the + operator all the states that are a posible path from qstart\n",
    "            merged_trans = \"(\" + \"+\".join(tvalues) + \")\"\n",
    "            # Add the merged transition to the array\n",
    "            transitions_to_append.append((merged_trans, qe))\n",
    "            #states_definition_cpy[\"qstart\"][merged_trans] = qe\n",
    "            # Add the same values or transitions values to the \"Delete\" array\n",
    "            transitions_to_delete += tvalues\n",
    "    \n",
    "    # Remove duplicates from the transitions_to_delete list (raises an error if the property or key dont exists when deleting)\n",
    "    transitions_to_delete = list(set(transitions_to_delete))\n",
    "    \n",
    "    # Remove the transitions\n",
    "    for tdel in transitions_to_delete:\n",
    "        del states_definition_cpy[\"qstart\"][tdel]\n",
    "    # Add the new transitions to the current states definition or transitions table\n",
    "    for tapp in transitions_to_append:\n",
    "        states_definition_cpy[\"qstart\"][tapp[0]] = tapp[1]\n",
    "    #Repeat until there is only 2 states: qstart and qend. The resulting transition is the R.E."
   ]
  },
  {
   "cell_type": "code",
   "execution_count": null,
   "id": "0a98995f",
   "metadata": {},
   "outputs": [],
   "source": [
    "# Last update of the vocab, to add the R.E. expression\n",
    "vocab = update_vocab(states_definition_cpy)\n",
    "# Print the table\n",
    "print_table(vocab, states_definition_cpy)"
   ]
  },
  {
   "cell_type": "code",
   "execution_count": null,
   "id": "d2d1f730",
   "metadata": {},
   "outputs": [],
   "source": [
    "# Remove the epsilon letter from the R.E.\n",
    "qstart_keys = list(states_definition_cpy[\"qstart\"].keys())\n",
    "qstart_keys = sorted(qstart_keys)\n",
    "regex = qstart_keys[0].replace(\"€\", \"\")"
   ]
  },
  {
   "cell_type": "code",
   "execution_count": null,
   "id": "50b12544",
   "metadata": {},
   "outputs": [],
   "source": [
    "regex"
   ]
  }
 ],
 "metadata": {
  "kernelspec": {
   "display_name": "PyFormers + CUDA",
   "language": "python",
   "name": "dev-kernel-v2"
  },
  "language_info": {
   "codemirror_mode": {
    "name": "ipython",
    "version": 3
   },
   "file_extension": ".py",
   "mimetype": "text/x-python",
   "name": "python",
   "nbconvert_exporter": "python",
   "pygments_lexer": "ipython3",
   "version": "3.11.2"
  }
 },
 "nbformat": 4,
 "nbformat_minor": 5
}

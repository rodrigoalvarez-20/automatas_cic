{
 "cells": [
  {
   "cell_type": "code",
   "execution_count": null,
   "id": "6adb40a4",
   "metadata": {},
   "outputs": [],
   "source": [
    "from utils.common import load_automata_definition\n",
    "from pprint import pprint"
   ]
  },
  {
   "cell_type": "code",
   "execution_count": null,
   "id": "8b4649a6",
   "metadata": {},
   "outputs": [],
   "source": [
    "automata_def = \"/Users/ralvarez20/Documents/development/automata/data/qrip_ex1.afd.txt\""
   ]
  },
  {
   "cell_type": "code",
   "execution_count": null,
   "id": "a6c4d93d",
   "metadata": {},
   "outputs": [],
   "source": [
    "vocab, accepted_states, states_definition = load_automata_definition(automata_def)"
   ]
  },
  {
   "cell_type": "code",
   "execution_count": null,
   "id": "decb32b9",
   "metadata": {},
   "outputs": [],
   "source": [
    "vocab, accepted_states, states_definition"
   ]
  },
  {
   "cell_type": "code",
   "execution_count": null,
   "id": "a3d8aaa2",
   "metadata": {},
   "outputs": [],
   "source": [
    "def print_table(header_data, states_def):\n",
    "    str_header = \"\\t{}\".format(\"\\t\".join(header_data))\n",
    "    print(str_header)\n",
    "    for key in states_def.keys():\n",
    "        str_row = \"{}\".format(key)\n",
    "        for v in header_data:\n",
    "            if states_def[key].get(v):\n",
    "                str_row += \"\\t{}\".format(states_def[key].get(v))\n",
    "            else:\n",
    "                str_row += \"\\t\"\n",
    "        #transition_elements = list(states_def[key].values())\n",
    "        #str_row = \"{}\\t{}\".format(key, \"\\t\".join(transition_elements))\n",
    "        print(str_row)"
   ]
  },
  {
   "cell_type": "code",
   "execution_count": null,
   "id": "76837d79",
   "metadata": {},
   "outputs": [],
   "source": [
    "print_table(vocab, states_definition)"
   ]
  },
  {
   "cell_type": "code",
   "execution_count": null,
   "id": "38469907",
   "metadata": {},
   "outputs": [],
   "source": [
    "# Agregar estado inicial y final\n",
    "all_states = list(states_definition.keys())\n",
    "states_definition[\"qstart\"] = { \"€\": all_states[0] }\n",
    "states_definition[\"qend\"] = {}\n",
    "final_states = accepted_states[2:].split(\",\")\n",
    "for fstate in final_states:\n",
    "    states_definition[fstate][\"€\"] = \"qend\"\n",
    "all_states = list(states_definition.keys())\n",
    "pprint(states_definition)"
   ]
  },
  {
   "cell_type": "code",
   "execution_count": null,
   "id": "ce5dc752",
   "metadata": {},
   "outputs": [],
   "source": [
    "states_definition_cpy = states_definition.copy()\n",
    "node_elements = [ x for x in states_definition_cpy.keys() if x not in [\"qstart\", \"qend\"] ]\n",
    "for original_state in node_elements:\n",
    "    vocab = []\n",
    "    for v in states_definition_cpy.values():\n",
    "        vocab += list(v.keys())\n",
    "    vocab = list(set(vocab))\n",
    "    print_table(vocab, states_definition_cpy)\n",
    "    print(\"\\n\")\n",
    "    print(\"=\"*10)\n",
    "    print(\"\\n\")\n",
    "    out_trans = states_definition_cpy.pop(original_state)\n",
    "    #print(\"Node to delete: {}\".format(original_state))\n",
    "    in_trans = []\n",
    "    loops_trans = []\n",
    "    # Agregar todas aquellas coincidentes con \"Estado_Destino == Estado Actual\" exceptuando los self-loops\n",
    "    #print(\"Actual Table - Start\")\n",
    "    #pprint(states_definition_cpy)\n",
    "    for ext_state in states_definition_cpy:\n",
    "        tlist = states_definition_cpy[ext_state]\n",
    "        for tlist_item in tlist:\n",
    "            #print(tlist.get(tlist_item))\n",
    "            if tlist.get(tlist_item) == original_state:\n",
    "                if ext_state != original_state:\n",
    "                    in_trans.append((ext_state, {tlist_item: tlist[tlist_item]}))\n",
    "    \n",
    "    # Realizar producto cruz de Incoming X Outgoing y agregarlos a la tabla de transiciones\n",
    "    for inc_state, inc_transitions in in_trans:\n",
    "        base_transition = list(inc_transitions.keys())[0]\n",
    "        for out_state in out_trans:\n",
    "            if out_trans[out_state] == original_state:\n",
    "                if \"+\" in out_state:\n",
    "                    base_transition += \"({})*\".format(out_state)\n",
    "                else:\n",
    "                    base_transition += \"({}*)\".format(out_state)\n",
    "        for out_state in out_trans:\n",
    "            if out_trans[out_state] != original_state:\n",
    "                str_transition = \"({}{})\".format(base_transition, out_state)\n",
    "                #print(\"{}[{}] --> {}\".format(inc_state, str_transition, out_trans[out_state]))\n",
    "                states_definition_cpy[inc_state][str_transition] = out_trans[out_state]\n",
    "            \n",
    "    # Unir caminos dobles\n",
    "    for mod_state in states_definition_cpy:\n",
    "        if mod_state not in [\"qstart\"]:\n",
    "            # Unir mediante +\n",
    "            items_to_merge = [ x for x in states_definition_cpy[mod_state] if states_definition_cpy[mod_state][x] == mod_state ]\n",
    "            if len(items_to_merge) > 1:\n",
    "                merged_trans = \"+\".join(items_to_merge)\n",
    "                states_definition_cpy[mod_state][merged_trans] = mod_state\n",
    "                for itm in items_to_merge:\n",
    "                    del states_definition_cpy[mod_state][itm]\n",
    "            \n",
    "    # Una vez eliminado el estado, cambiar las referencias por \n",
    "    for origin_state, transition in in_trans:\n",
    "        del states_definition_cpy[origin_state][list(transition.keys())[0]]\n",
    "    \n",
    "    qstart_elements = states_definition_cpy[\"qstart\"]\n",
    "    transitions_to_delete = []\n",
    "    transitions_to_append = []\n",
    "    for qe in qstart_elements.values():\n",
    "        tvalues = [ x for x in qstart_elements.keys() if qstart_elements[x] == qe ]\n",
    "        if len(tvalues) > 1:\n",
    "            merged_trans = \"(\" + \"+\".join(tvalues) + \")\"\n",
    "            \n",
    "            transitions_to_append.append((merged_trans, qe))\n",
    "            #states_definition_cpy[\"qstart\"][merged_trans] = qe\n",
    "            transitions_to_delete += tvalues\n",
    "            \n",
    "    transitions_to_delete = list(set(transitions_to_delete))\n",
    "    \n",
    "    for tdel in transitions_to_delete:\n",
    "        del states_definition_cpy[\"qstart\"][tdel]\n",
    "    \n",
    "    for tapp in transitions_to_append:\n",
    "        states_definition_cpy[\"qstart\"][tapp[0]] = tapp[1]\n",
    "\n",
    "    "
   ]
  },
  {
   "cell_type": "code",
   "execution_count": null,
   "id": "0a98995f",
   "metadata": {},
   "outputs": [],
   "source": [
    "vocab = []\n",
    "for v in states_definition_cpy.values():\n",
    "    vocab += list(v.keys())\n",
    "vocab = list(set(vocab))\n",
    "print_table(vocab, states_definition_cpy)\n",
    "print(\"\\n\")\n",
    "print(\"=\"*10)\n",
    "print(\"\\n\")"
   ]
  },
  {
   "cell_type": "code",
   "execution_count": null,
   "id": "d2d1f730",
   "metadata": {},
   "outputs": [],
   "source": [
    "qstart_keys = list(states_definition_cpy[\"qstart\"].keys())\n",
    "\n",
    "qstart_keys = sorted(qstart_keys)\n",
    "\n",
    "regex = qstart_keys[0]\n"
   ]
  },
  {
   "cell_type": "code",
   "execution_count": null,
   "id": "50b12544",
   "metadata": {},
   "outputs": [],
   "source": [
    "regex"
   ]
  },
  {
   "cell_type": "code",
   "execution_count": null,
   "id": "21c35020",
   "metadata": {},
   "outputs": [],
   "source": [
    "regex.replace(\"€\", \"\")"
   ]
  }
 ],
 "metadata": {
  "kernelspec": {
   "display_name": "base",
   "language": "python",
   "name": "python3"
  },
  "language_info": {
   "codemirror_mode": {
    "name": "ipython",
    "version": 3
   },
   "file_extension": ".py",
   "mimetype": "text/x-python",
   "name": "python",
   "nbconvert_exporter": "python",
   "pygments_lexer": "ipython3",
   "version": "3.12.2"
  }
 },
 "nbformat": 4,
 "nbformat_minor": 5
}

{
 "cells": [
  {
   "cell_type": "code",
   "execution_count": null,
   "id": "6adb40a4",
   "metadata": {},
   "outputs": [],
   "source": [
    "from utils.common import load_automata_definition, update_vocab, print_table, qrip_input_trans, qrip_join_duplicate_paths\n",
    "from pprint import pprint"
   ]
  },
  {
   "cell_type": "code",
   "execution_count": null,
   "id": "8b4649a6",
   "metadata": {},
   "outputs": [],
   "source": [
    "automata_def = \"./data/qrip_ex1.afd.txt\""
   ]
  },
  {
   "cell_type": "code",
   "execution_count": null,
   "id": "a6c4d93d",
   "metadata": {},
   "outputs": [],
   "source": [
    "vocab, accepted_states, states_definition = load_automata_definition(automata_def)"
   ]
  },
  {
   "cell_type": "code",
   "execution_count": null,
   "id": "decb32b9",
   "metadata": {},
   "outputs": [],
   "source": [
    "vocab, accepted_states, states_definition"
   ]
  },
  {
   "cell_type": "code",
   "execution_count": null,
   "id": "38469907",
   "metadata": {},
   "outputs": [],
   "source": [
    "# Agregar estado inicial y final\n",
    "all_states = list(states_definition.keys())\n",
    "states_definition[\"qstart\"] = { \"€\": all_states[0] }\n",
    "states_definition[\"qend\"] = {}\n",
    "final_states = accepted_states[2:].split(\",\")\n",
    "for fstate in final_states:\n",
    "    states_definition[fstate][\"€\"] = \"qend\"\n",
    "all_states = list(states_definition.keys())\n",
    "vocab = update_vocab(states_definition)"
   ]
  },
  {
   "cell_type": "code",
   "execution_count": null,
   "id": "7b1a2a68",
   "metadata": {},
   "outputs": [],
   "source": [
    "print_table(vocab, states_definition)"
   ]
  },
  {
   "cell_type": "code",
   "execution_count": null,
   "id": "ce5dc752",
   "metadata": {},
   "outputs": [],
   "source": [
    "states_definition_cpy = states_definition.copy()\n",
    "node_elements = [ x for x in states_definition_cpy.keys() if x not in [\"qstart\", \"qend\"] ]\n",
    "for idx, original_state in enumerate(node_elements):\n",
    "    vocab = update_vocab(states_definition_cpy)\n",
    "    out_trans = states_definition_cpy.pop(original_state)\n",
    "    print(\"Iteration #{} - Node to delete: {}\".format((idx + 1), original_state))\n",
    "    print_table(vocab, states_definition_cpy)\n",
    "    # Agregar todas aquellas coincidentes con \"Estado_Destino == Estado Actual\" exceptuando los self-loops\n",
    "    in_trans = qrip_input_trans(states_definition_cpy, original_state)\n",
    "    loops_trans = []\n",
    "    \n",
    "    # Realizar producto cruz de Incoming X Outgoing y agregarlos a la tabla de transiciones\n",
    "    for inc_state, inc_transitions in in_trans:\n",
    "        base_transition = list(inc_transitions.keys())[0]\n",
    "        for out_state in out_trans:\n",
    "            if out_trans[out_state] == original_state:\n",
    "                if \"+\" in out_state:\n",
    "                    base_transition += \"({})*\".format(out_state)\n",
    "                else:\n",
    "                    base_transition += \"({}*)\".format(out_state)\n",
    "        for out_state in out_trans:\n",
    "            if out_trans[out_state] != original_state:\n",
    "                str_transition = \"({}{})\".format(base_transition, out_state)\n",
    "                #print(\"{}[{}] --> {}\".format(inc_state, str_transition, out_trans[out_state]))\n",
    "                states_definition_cpy[inc_state][str_transition] = out_trans[out_state]\n",
    "            \n",
    "    # Unir caminos dobles\n",
    "    qrip_join_duplicate_paths(states_definition_cpy)\n",
    "            \n",
    "    # Una vez eliminado el estado, eliminar las referencias de las transiciones existentes\n",
    "    for origin_state, transition in in_trans:\n",
    "        del states_definition_cpy[origin_state][list(transition.keys())[0]]\n",
    "    \n",
    "    qstart_elements = states_definition_cpy[\"qstart\"]\n",
    "    transitions_to_delete = []\n",
    "    transitions_to_append = []\n",
    "    for qe in qstart_elements.values():\n",
    "        tvalues = [ x for x in qstart_elements.keys() if qstart_elements[x] == qe ]\n",
    "        if len(tvalues) > 1:\n",
    "            merged_trans = \"(\" + \"+\".join(tvalues) + \")\"\n",
    "            \n",
    "            transitions_to_append.append((merged_trans, qe))\n",
    "            #states_definition_cpy[\"qstart\"][merged_trans] = qe\n",
    "            transitions_to_delete += tvalues\n",
    "            \n",
    "    transitions_to_delete = list(set(transitions_to_delete))\n",
    "    \n",
    "    for tdel in transitions_to_delete:\n",
    "        del states_definition_cpy[\"qstart\"][tdel]\n",
    "    \n",
    "    for tapp in transitions_to_append:\n",
    "        states_definition_cpy[\"qstart\"][tapp[0]] = tapp[1]"
   ]
  },
  {
   "cell_type": "code",
   "execution_count": null,
   "id": "0a98995f",
   "metadata": {},
   "outputs": [],
   "source": [
    "vocab = update_vocab(states_definition_cpy)\n",
    "print_table(vocab, states_definition_cpy)"
   ]
  },
  {
   "cell_type": "code",
   "execution_count": null,
   "id": "d2d1f730",
   "metadata": {},
   "outputs": [],
   "source": [
    "qstart_keys = list(states_definition_cpy[\"qstart\"].keys())\n",
    "qstart_keys = sorted(qstart_keys)\n",
    "regex = qstart_keys[0].replace(\"€\", \"\")"
   ]
  },
  {
   "cell_type": "code",
   "execution_count": null,
   "id": "50b12544",
   "metadata": {},
   "outputs": [],
   "source": [
    "regex"
   ]
  }
 ],
 "metadata": {
  "kernelspec": {
   "display_name": ".venv",
   "language": "python",
   "name": "python3"
  },
  "language_info": {
   "codemirror_mode": {
    "name": "ipython",
    "version": 3
   },
   "file_extension": ".py",
   "mimetype": "text/x-python",
   "name": "python",
   "nbconvert_exporter": "python",
   "pygments_lexer": "ipython3",
   "version": "3.11.9"
  }
 },
 "nbformat": 4,
 "nbformat_minor": 5
}

{
 "cells": [
  {
   "cell_type": "code",
   "execution_count": 1,
   "metadata": {},
   "outputs": [],
   "source": [
    "import os\n",
    "from pprint import pprint"
   ]
  },
  {
   "cell_type": "code",
   "execution_count": 2,
   "metadata": {},
   "outputs": [],
   "source": [
    "ruta_archivo = input(\"Introduce la ruta del archivo: \")"
   ]
  },
  {
   "cell_type": "code",
   "execution_count": 3,
   "metadata": {},
   "outputs": [],
   "source": [
    "if not os.path.isfile(ruta_archivo):\n",
    "    raise Exception(\"No se ha encontrado el archivo en la ruta especificada.\")"
   ]
  },
  {
   "cell_type": "code",
   "execution_count": 4,
   "metadata": {},
   "outputs": [],
   "source": [
    "data_archivo = open(ruta_archivo, \"r\", encoding=\"utf-8\").readlines()"
   ]
  },
  {
   "cell_type": "code",
   "execution_count": 5,
   "metadata": {},
   "outputs": [
    {
     "data": {
      "text/plain": [
       "['0,1,2,3,4,5,6,7,8,9,+,-,.,e\\n',\n",
       " '1:2,2,2,2,2,2,2,2,2,2,8,8,8,8 \\n',\n",
       " '2:2,2,2,2,2,2,2,2,2,2,8,8,3,5\\n',\n",
       " '3:4,4,4,4,4,4,4,4,4,4,8,8,8,8\\n',\n",
       " '4:4,4,4,4,4,4,4,4,4,4,8,8,8,5\\n',\n",
       " '5:7,7,7,7,7,7,7,7,7,7,6,6,8,8\\n',\n",
       " '6:7,7,7,7,7,7,7,7,7,7,8,8,8,8\\n',\n",
       " '7:7,7,7,7,7,7,7,7,7,7,8,8,8,8\\n',\n",
       " '8:8,8,8,8,8,8,8,8,8,8,8,8,8,8\\n',\n",
       " 'F:4,7']"
      ]
     },
     "execution_count": 5,
     "metadata": {},
     "output_type": "execute_result"
    }
   ],
   "source": [
    "data_archivo"
   ]
  },
  {
   "cell_type": "code",
   "execution_count": 6,
   "metadata": {},
   "outputs": [],
   "source": [
    "vocab = data_archivo[0].replace(\"\\n\", \"\").split(\",\")\n",
    "accept_states = data_archivo[-1].replace(\"\\n\", \"\")\n",
    "states_definition = data_archivo[1:-1]"
   ]
  },
  {
   "cell_type": "code",
   "execution_count": 7,
   "metadata": {},
   "outputs": [
    {
     "data": {
      "text/plain": [
       "['0', '1', '2', '3', '4', '5', '6', '7', '8', '9', '+', '-', '.', 'e']"
      ]
     },
     "execution_count": 7,
     "metadata": {},
     "output_type": "execute_result"
    }
   ],
   "source": [
    "vocab"
   ]
  },
  {
   "cell_type": "code",
   "execution_count": 8,
   "metadata": {},
   "outputs": [],
   "source": [
    "if not accept_states.lower().startswith(\"f:\"):\n",
    "    raise Exception(\"Por favor indique la lista de estados aceptados mediante 'F:<s1>,<s2>,...'\")\n",
    "if len(states_definition) == 0:\n",
    "    raise Exception(\"El archivo no contiene una definicion válida de estados.\")"
   ]
  },
  {
   "cell_type": "code",
   "execution_count": 9,
   "metadata": {},
   "outputs": [],
   "source": [
    "states_definition_dict = {}\n",
    "for state in states_definition:\n",
    "    fmt_line = state.replace(\"\\n\", \"\").strip()\n",
    "    state_data = fmt_line.split(\":\")\n",
    "    state_id = state_data[0]\n",
    "    state_transitions = state_data[1].split(\",\")\n",
    "    state_trans_dict = { v: state_transitions[idx] for idx, v in enumerate(vocab) }\n",
    "    states_definition_dict[state_id] = state_trans_dict"
   ]
  },
  {
   "cell_type": "code",
   "execution_count": 10,
   "metadata": {},
   "outputs": [
    {
     "name": "stdout",
     "output_type": "stream",
     "text": [
      "{ '1': { '0': '2',\n",
      "         '1': '2',\n",
      "         '2': '2',\n",
      "         '3': '2',\n",
      "         '4': '2',\n",
      "         '5': '2',\n",
      "         '6': '2',\n",
      "         '7': '2',\n",
      "         '8': '2',\n",
      "         '9': '2',\n",
      "         '+': '8',\n",
      "         '-': '8',\n",
      "         '.': '8',\n",
      "         'e': '8'},\n",
      "  '2': { '0': '2',\n",
      "         '1': '2',\n",
      "         '2': '2',\n",
      "         '3': '2',\n",
      "         '4': '2',\n",
      "         '5': '2',\n",
      "         '6': '2',\n",
      "         '7': '2',\n",
      "         '8': '2',\n",
      "         '9': '2',\n",
      "         '+': '8',\n",
      "         '-': '8',\n",
      "         '.': '3',\n",
      "         'e': '5'},\n",
      "  '3': { '0': '4',\n",
      "         '1': '4',\n",
      "         '2': '4',\n",
      "         '3': '4',\n",
      "         '4': '4',\n",
      "         '5': '4',\n",
      "         '6': '4',\n",
      "         '7': '4',\n",
      "         '8': '4',\n",
      "         '9': '4',\n",
      "         '+': '8',\n",
      "         '-': '8',\n",
      "         '.': '8',\n",
      "         'e': '8'},\n",
      "  '4': { '0': '4',\n",
      "         '1': '4',\n",
      "         '2': '4',\n",
      "         '3': '4',\n",
      "         '4': '4',\n",
      "         '5': '4',\n",
      "         '6': '4',\n",
      "         '7': '4',\n",
      "         '8': '4',\n",
      "         '9': '4',\n",
      "         '+': '8',\n",
      "         '-': '8',\n",
      "         '.': '8',\n",
      "         'e': '5'},\n",
      "  '5': { '0': '7',\n",
      "         '1': '7',\n",
      "         '2': '7',\n",
      "         '3': '7',\n",
      "         '4': '7',\n",
      "         '5': '7',\n",
      "         '6': '7',\n",
      "         '7': '7',\n",
      "         '8': '7',\n",
      "         '9': '7',\n",
      "         '+': '6',\n",
      "         '-': '6',\n",
      "         '.': '8',\n",
      "         'e': '8'},\n",
      "  '6': { '0': '7',\n",
      "         '1': '7',\n",
      "         '2': '7',\n",
      "         '3': '7',\n",
      "         '4': '7',\n",
      "         '5': '7',\n",
      "         '6': '7',\n",
      "         '7': '7',\n",
      "         '8': '7',\n",
      "         '9': '7',\n",
      "         '+': '8',\n",
      "         '-': '8',\n",
      "         '.': '8',\n",
      "         'e': '8'},\n",
      "  '7': { '0': '7',\n",
      "         '1': '7',\n",
      "         '2': '7',\n",
      "         '3': '7',\n",
      "         '4': '7',\n",
      "         '5': '7',\n",
      "         '6': '7',\n",
      "         '7': '7',\n",
      "         '8': '7',\n",
      "         '9': '7',\n",
      "         '+': '8',\n",
      "         '-': '8',\n",
      "         '.': '8',\n",
      "         'e': '8'},\n",
      "  '8': { '0': '8',\n",
      "         '1': '8',\n",
      "         '2': '8',\n",
      "         '3': '8',\n",
      "         '4': '8',\n",
      "         '5': '8',\n",
      "         '6': '8',\n",
      "         '7': '8',\n",
      "         '8': '8',\n",
      "         '9': '8',\n",
      "         '+': '8',\n",
      "         '-': '8',\n",
      "         '.': '8',\n",
      "         'e': '8'}}\n"
     ]
    }
   ],
   "source": [
    "pprint(states_definition_dict, indent=2, sort_dicts=False)"
   ]
  },
  {
   "cell_type": "code",
   "execution_count": 16,
   "metadata": {},
   "outputs": [],
   "source": [
    "string_to_evaluate = input(\"Introduce la cadena a evaluar: \")\n",
    "eval_items = [ c for c in string_to_evaluate.strip() ]"
   ]
  },
  {
   "cell_type": "code",
   "execution_count": 17,
   "metadata": {},
   "outputs": [],
   "source": [
    "if len(list(set(eval_items) - set(vocab))) > 0:\n",
    "    raise Exception(\"La cadena introducida contiene caracteres fuera del vocabulario.\")"
   ]
  },
  {
   "cell_type": "code",
   "execution_count": 18,
   "metadata": {},
   "outputs": [
    {
     "data": {
      "text/plain": [
       "['0', '.', '0', '.', '0', 'e', '-', '4']"
      ]
     },
     "execution_count": 18,
     "metadata": {},
     "output_type": "execute_result"
    }
   ],
   "source": [
    "eval_items"
   ]
  },
  {
   "cell_type": "code",
   "execution_count": 19,
   "metadata": {},
   "outputs": [],
   "source": [
    "actual_state = \"1\"\n",
    "for idx, item in enumerate(eval_items):\n",
    "    state_trans = states_definition_dict.get(actual_state)\n",
    "    if not state_trans:\n",
    "        raise Exception(\"No se ha encontrado la definicion del estado '{}' en la tabla de transiciones.\".format(actual_state))\n",
    "    next_state = state_trans.get(item)\n",
    "    if not next_state:\n",
    "        raise Exception(\"La transicion del estado '{}' usando '{}' es invalida\".format(actual_state, item))\n",
    "    actual_state = next_state"
   ]
  },
  {
   "cell_type": "code",
   "execution_count": 20,
   "metadata": {},
   "outputs": [
    {
     "data": {
      "text/plain": [
       "'8'"
      ]
     },
     "execution_count": 20,
     "metadata": {},
     "output_type": "execute_result"
    }
   ],
   "source": [
    "actual_state"
   ]
  },
  {
   "cell_type": "code",
   "execution_count": 23,
   "metadata": {},
   "outputs": [
    {
     "name": "stdout",
     "output_type": "stream",
     "text": [
      "La cadena '0.0.0e-4' es invalida\n"
     ]
    }
   ],
   "source": [
    "print(\"La cadena '{}' es {}\".format(string_to_evaluate, \"aceptada\" if actual_state in accept_states else \"invalida\"))"
   ]
  }
 ],
 "metadata": {
  "kernelspec": {
   "display_name": "base",
   "language": "python",
   "name": "python3"
  },
  "language_info": {
   "codemirror_mode": {
    "name": "ipython",
    "version": 3
   },
   "file_extension": ".py",
   "mimetype": "text/x-python",
   "name": "python",
   "nbconvert_exporter": "python",
   "pygments_lexer": "ipython3",
   "version": "3.12.2"
  }
 },
 "nbformat": 4,
 "nbformat_minor": 2
}
